{
 "cells": [
  {
   "cell_type": "code",
   "id": "18bb6840dd32e956",
   "metadata": {
    "collapsed": true,
    "ExecuteTime": {
     "end_time": "2025-04-12T02:37:28.451188Z",
     "start_time": "2025-04-12T02:37:26.535015Z"
    }
   },
   "source": [
    "import matplotlib.pyplot as plt\n",
    "import torch\n",
    "import os\n",
    "import torch.nn as nn\n",
    "import ipywidgets as widgets\n",
    "import torch.nn.functional as F\n",
    "from IPython.display import display\n",
    "import math\n",
    "import random\n",
    "import numpy as np\n",
    "\n",
    "def set_all_seeds(seed=42):\n",
    "    random.seed(seed) \n",
    "    np.random.seed(seed)\n",
    "    torch.manual_seed(seed)\n",
    "    torch.cuda.manual_seed_all(seed)\n",
    "    torch.backends.cudnn.deterministic = True\n",
    "    torch.backends.cudnn.benchmark = False\n",
    "\n",
    "set_all_seeds(42)"
   ],
   "outputs": [],
   "execution_count": 1
  },
  {
   "cell_type": "code",
   "id": "4b024b98d9ba65a6",
   "metadata": {
    "collapsed": false,
    "ExecuteTime": {
     "end_time": "2025-04-12T02:37:28.458937Z",
     "start_time": "2025-04-12T02:37:28.455068Z"
    }
   },
   "source": [
    "feature_names = {\n",
    "  0: 'hair',\n",
    "  1: 'feathers', \n",
    "  2: 'eggs',  \n",
    "  3: 'milk', \n",
    "  4: 'airborne', \n",
    "  5: 'aquatic', \n",
    "  6: 'predator', \n",
    "  7: 'toothed', \n",
    "  8: 'backbone',\n",
    "  9: 'breathes',  \n",
    "  10: 'venomous',\n",
    "  11: 'fins', \n",
    "  12: 'legs', \n",
    "  13: 'tail', \n",
    "  14: 'domestic', \n",
    "  15: 'catsize'}"
   ],
   "outputs": [],
   "execution_count": 2
  },
  {
   "cell_type": "code",
   "id": "59c9aedb1f1ac7a2",
   "metadata": {
    "ExecuteTime": {
     "end_time": "2025-04-12T02:37:28.550996Z",
     "start_time": "2025-04-12T02:37:28.534471Z"
    }
   },
   "source": [
    "class HGNAM(nn.Module):\n",
    "    def __init__(\n",
    "          self,\n",
    "          in_channels,\n",
    "          out_channels,\n",
    "          num_layers,\n",
    "          hidden_channels=None,\n",
    "          bias=True,\n",
    "          dropout=0.0,\n",
    "          device='cuda',\n",
    "          limited_m=True,\n",
    "          normalize_m=True,\n",
    "          m_per_feature=False,\n",
    "          weight = False,\n",
    "          aggregation = \"overall\"\n",
    "    ):\n",
    "        \n",
    "        super().__init__()\n",
    "        self.device = device\n",
    "        self.in_channels = in_channels\n",
    "        self.out_channels = out_channels\n",
    "        self.num_layers = num_layers\n",
    "        self.hidden_channels = hidden_channels\n",
    "        self.bias = bias\n",
    "        self.dropout = dropout\n",
    "        self.limited_m = limited_m\n",
    "        self.normalize_m = normalize_m\n",
    "        self.m_per_feature = m_per_feature\n",
    "        self.weight = weight\n",
    "        self.aggregation = aggregation\n",
    "        if self.weight == True:\n",
    "            self.feature_weights = nn.Parameter(torch.rand(self.in_channels))\n",
    "\n",
    "        # shape functions f_k\n",
    "        self.fs = nn.ModuleList()\n",
    "        for _ in range(in_channels):\n",
    "            if num_layers == 1:\n",
    "                layers = [nn.Linear(1, out_channels, bias=bias)]\n",
    "            else:\n",
    "                layers = [nn.Linear(1, hidden_channels, bias=bias), nn.ReLU(), nn.Dropout(p=dropout)]\n",
    "                for _ in range(1, num_layers - 1):\n",
    "                    layers += [nn.Linear(hidden_channels, hidden_channels, bias=bias), nn.ReLU(), nn.Dropout(p=dropout)]\n",
    "                layers.append(nn.Linear(hidden_channels, out_channels, bias=bias))\n",
    "            self.fs.append(nn.Sequential(*layers))\n",
    "\n",
    "        # distance functions \\rho\n",
    "        if m_per_feature:\n",
    "            self.ms = nn.ModuleList()\n",
    "            for _ in range(out_channels if limited_m else in_channels):\n",
    "                if num_layers == 1:\n",
    "                    m_layers = [nn.Linear(1, out_channels, bias=bias)]\n",
    "                else:\n",
    "                    m_layers = [nn.Linear(1, hidden_channels, bias=bias), nn.ReLU()]\n",
    "                    for _ in range(1, num_layers - 1):\n",
    "                        m_layers += [nn.Linear(hidden_channels, hidden_channels, bias=bias), nn.ReLU()]\n",
    "                    if limited_m:\n",
    "                        m_layers.append(nn.Linear(hidden_channels, 1, bias=bias))\n",
    "                    else:\n",
    "                        m_layers.append(nn.Linear(hidden_channels, out_channels, bias=bias))\n",
    "                self.ms.append(nn.Sequential(*m_layers))\n",
    "        else:\n",
    "            if num_layers == 1:\n",
    "                m_layers = [nn.Linear(1, out_channels, bias=bias)]\n",
    "            else:\n",
    "                m_layers = [nn.Linear(1, hidden_channels, bias=bias), nn.ReLU()]\n",
    "                for _ in range(1, num_layers - 1):\n",
    "                    m_layers += [nn.Linear(hidden_channels, hidden_channels, bias=bias), nn.ReLU()]\n",
    "                if limited_m:\n",
    "                    m_layers.append(nn.Linear(hidden_channels, 1, bias=bias))\n",
    "                else:\n",
    "                    m_layers.append(nn.Linear(hidden_channels, out_channels, bias=bias))\n",
    "            self.m = nn.Sequential(*m_layers)\n",
    "\n",
    "    def forward(self, inputs):\n",
    "        x, distances, normalization_matrix = inputs.x.to(self.device), inputs.dist_mat.to(self.device), inputs.norm_mat.to(self.device)\n",
    "        fx = torch.empty(x.size(0), x.size(1), self.out_channels).to(self.device)\n",
    "        for feature_index in range(x.size(1)):\n",
    "            feature_col = x[:, feature_index].view(-1, 1)\n",
    "            fx[:, feature_index] = self.fs[feature_index](feature_col)\n",
    "        if self.weight == True:\n",
    "            attention_weights = F.softmax(torch.exp(self.feature_weights), dim=0)\n",
    "            fx_weighted = fx * attention_weights.unsqueeze(0).unsqueeze(-1)  # (N, num_features, out_channels)\n",
    "            f_sums = fx_weighted.sum(dim=1)\n",
    "        else:\n",
    "            f_sums = fx.sum(dim=1)\n",
    "\n",
    "        if self.aggregation == \"overall\":\n",
    "            m_dist = self.m(distances.flatten().view(-1, 1))\n",
    "            m_dist = m_dist.view(distances.size(0), distances.size(1), self.out_channels)\n",
    "\n",
    "            if self.normalize_m:\n",
    "                m_dist = m_dist / normalization_matrix.unsqueeze(-1)\n",
    "\n",
    "            output = torch.sum(m_dist * f_sums.unsqueeze(0), dim=1)\n",
    "\n",
    "        elif self.aggregation == \"neighbor\":\n",
    "            N = distances.size(0)\n",
    "            out_channels = f_sums.size(1)\n",
    "            self_embedding = f_sums\n",
    "\n",
    "            # distinguish neighbor(distances==0.5 because distances = 1/(real distances + 1))\n",
    "            neighbor_mask = (distances == 0.5)\n",
    "\n",
    "            neighbor_indices = neighbor_mask.nonzero(as_tuple=False)\n",
    "\n",
    "            neighbor_agg = torch.zeros((N, out_channels), device=f_sums.device)\n",
    "            neighbor_agg.index_add_(0, neighbor_indices[:, 0], f_sums[neighbor_indices[:, 1]])\n",
    "\n",
    "            neighbor_counts = neighbor_mask.float().sum(dim=1, keepdim=True)\n",
    "            avg_neighbors = torch.where(neighbor_counts > 0, neighbor_agg / neighbor_counts, torch.zeros_like(neighbor_agg))\n",
    "            output = self_embedding + avg_neighbors\n",
    "\n",
    "        else:\n",
    "            raise ValueError(\"Unknown aggregation type: {}\".format(self.aggregation))\n",
    "        return output\n",
    "\n",
    "    def print_m_params(self):\n",
    "        if hasattr(self, 'm'):\n",
    "            print(\"Single m network parameters:\")\n",
    "            for name, param in self.m.named_parameters():\n",
    "                print(name, param)\n",
    "        elif hasattr(self, 'ms'):\n",
    "            print(\"Separate m networks per dimension:\")\n",
    "            for idx, module in enumerate(self.ms):\n",
    "                for name, param in module.named_parameters():\n",
    "                    print(f\"ms[{idx}].{name}\", param)\n",
    "        else:\n",
    "            print(\"No m parameters found.\")"
   ],
   "outputs": [],
   "execution_count": 3
  },
  {
   "metadata": {
    "ExecuteTime": {
     "end_time": "2025-04-12T02:48:56.864617Z",
     "start_time": "2025-04-12T02:48:56.850991Z"
    }
   },
   "cell_type": "code",
   "source": [
    "class FScorePlotter:\n",
    "    def __init__(self, model, data, data_name, feature_names, class_names):\n",
    "        self.model = model\n",
    "        self.data = data\n",
    "        self.data_name = data_name\n",
    "        self.feature_names = feature_names\n",
    "        self.class_names = class_names\n",
    "        self.num_features = data.size(1)\n",
    "        self.binary_indices = self.compute_binary_indices()\n",
    "        self.last_fig = None\n",
    "        \n",
    "        self.dropdown = widgets.Dropdown(\n",
    "            options=[(f\"{class_id}: {name}\", class_id) for class_id, name in self.class_names.items()],\n",
    "            value=0,\n",
    "            description='Class:',\n",
    "            disabled=False,\n",
    "        )\n",
    "        self.filename_text = widgets.Text(\n",
    "            value='',\n",
    "            placeholder='Enter file name',\n",
    "            description='File Name:',\n",
    "            disabled=False,\n",
    "        )\n",
    "        self.save_button = widgets.Button(\n",
    "            description=\"Save Plot\",\n",
    "            disabled=False,\n",
    "            button_style='',\n",
    "            tooltip='Click to save the current plot',\n",
    "            icon='save'\n",
    "        )\n",
    "        self.save_button.on_click(self.save_plot)\n",
    "    \n",
    "    def compute_binary_indices(self):\n",
    "        binary_indices = []\n",
    "        num_features = self.data.size(1)\n",
    "        for i in range(num_features):\n",
    "            unique_vals = torch.unique(self.data[:, i])\n",
    "            if unique_vals.numel() <= 2:\n",
    "                binary_indices.append(i)\n",
    "        return binary_indices\n",
    "    \n",
    "    def plot_f_scores(self, selected_class):\n",
    "        plt.rcParams['font.family'] = 'STIXGeneral'\n",
    "        plt.rcParams['mathtext.fontset'] = 'stix'\n",
    "        plt.rcParams.update({\n",
    "            'font.size': 20,          \n",
    "            'axes.titlesize': 20,    \n",
    "            'axes.labelsize': 20,      \n",
    "            'xtick.labelsize': 20,\n",
    "            'ytick.labelsize': 20,\n",
    "        })\n",
    "        \n",
    "        binary_indices = self.binary_indices\n",
    "        n_features = len(binary_indices)\n",
    "        nrows = 3\n",
    "        ncols = math.ceil(n_features / nrows)\n",
    "        \n",
    "        fig, axes = plt.subplots(nrows=nrows, ncols=ncols, figsize=(12, 8))\n",
    "        axes = axes.flatten()\n",
    "        attention_weights = F.softmax(torch.exp(self.model.feature_weights), dim=0)\n",
    "        for idx, feature_idx in enumerate(binary_indices):\n",
    "            f1 = self.model.fs[feature_idx].forward(torch.tensor([1.0]).view(-1, 1))\\\n",
    "                     .detach().flatten()[selected_class].item()\n",
    "            f0 = self.model.fs[feature_idx].forward(torch.tensor([0.0]).view(-1, 1))\\\n",
    "                     .detach().flatten()[selected_class].item()\n",
    "            weights = float(attention_weights[idx])\n",
    "            f1 = f1 * weights\n",
    "            f0 = f0 * weights\n",
    "            \n",
    "            ax = axes[idx]\n",
    "            positions = [0, 0.5]\n",
    "            bar_width = 0.3\n",
    "            ax.bar(positions, [f1, f0], color=['#4c72b0', '#dd8452'], width=bar_width, align='center')\n",
    "            ax.set_xticks(positions)\n",
    "            ax.set_xticklabels(['$f(1)$', '$f(0)$'])\n",
    "            ax.axhline(0, color='black', linewidth=1)\n",
    "\n",
    "            ax.grid(False)\n",
    "            ax.set_title(self.feature_names[feature_idx])\n",
    "\n",
    "            max_val = max(abs(f1), abs(f0))\n",
    "            if max_val == 0:\n",
    "                max_val = 1\n",
    "            margin = max_val * 0.1\n",
    "            ax.set_ylim([-max_val - margin, max_val + margin])\n",
    "\n",
    "        for j in range(idx + 1, len(axes)):\n",
    "            fig.delaxes(axes[j])\n",
    "        \n",
    "        fig.suptitle(f'Class: {self.class_names[selected_class]}', fontsize=22, fontweight='bold', y=0.85)\n",
    "        plt.tight_layout(rect=[0, 0, 1, 0.90], h_pad=0.5, w_pad=0.5)\n",
    "        plt.subplots_adjust(wspace=0.75, hspace=0.5)\n",
    "        \n",
    "        self.last_fig = fig\n",
    "        plt.show()\n",
    "    \n",
    "    def save_plot(self, b):\n",
    "        fname = self.filename_text.value.strip()\n",
    "        if not fname:\n",
    "            fname = str(self.data_name) + '_' + str(self.class_names[self.dropdown.value])\n",
    "            print(fname)\n",
    "        elif self.last_fig is None:\n",
    "            print(\"No plot is available to save.\")\n",
    "        directory = \"./plot\"\n",
    "        if not os.path.exists(directory):\n",
    "            os.makedirs(directory)\n",
    "        self.last_fig.savefig(f\"{directory}/{fname}.pdf\", format=\"pdf\", bbox_inches=\"tight\")\n",
    "\n",
    "        print(f\"Plot saved as {fname}.pdf\")\n",
    "    \n",
    "    def display(self):\n",
    "        # Use interact to update the plot based on dropdown selection\n",
    "        widgets.interact(self.plot_f_scores, selected_class=self.dropdown)\n",
    "        # Display the filename textbox and save button below the plot widget\n",
    "        display(self.filename_text, self.save_button)"
   ],
   "id": "a75780274e38aa86",
   "outputs": [],
   "execution_count": 28
  },
  {
   "metadata": {
    "ExecuteTime": {
     "end_time": "2025-04-12T02:48:58.798013Z",
     "start_time": "2025-04-12T02:48:58.646479Z"
    }
   },
   "cell_type": "code",
   "source": [
    "data_name = 'zoo'\n",
    "data_path = f'processed_data/{data_name}.pt'\n",
    "data = torch.load(data_path, weights_only=False)\n",
    "\n",
    "model_dict = 'models/zoo_HGNAM_2732_best_val_acc.pt'\n",
    "model = HGNAM(in_channels=16, hidden_channels=256, num_layers=5, out_channels=7, dropout=0.0, limited_m=0, bias=True, normalize_m=1, weight=True, aggregation='neighbor')\n",
    "model.load_state_dict(torch.load(f\"{model_dict}\", map_location=torch.device('cuda'), weights_only=False))"
   ],
   "id": "initial_id",
   "outputs": [
    {
     "data": {
      "text/plain": [
       "<All keys matched successfully>"
      ]
     },
     "execution_count": 29,
     "metadata": {},
     "output_type": "execute_result"
    }
   ],
   "execution_count": 29
  },
  {
   "metadata": {
    "ExecuteTime": {
     "end_time": "2025-04-12T02:49:01.210983Z",
     "start_time": "2025-04-12T02:48:59.519759Z"
    }
   },
   "cell_type": "code",
   "source": [
    "class_names = {\n",
    "    0: 'Mammals', 1: 'Birds', 2: 'Reptiles',\n",
    "    3: 'Fish', 4: 'Amphibians', 5: 'Insects', 6: 'Invertebrates'\n",
    "}\n",
    "\n",
    "plotter = FScorePlotter(model, data.x, data_name, feature_names, class_names)\n",
    "plotter.display()"
   ],
   "id": "b671ec10d4cb79e",
   "outputs": [
    {
     "data": {
      "text/plain": [
       "interactive(children=(Dropdown(description='Class:', options=(('0: Mammals', 0), ('1: Birds', 1), ('2: Reptile…"
      ],
      "application/vnd.jupyter.widget-view+json": {
       "version_major": 2,
       "version_minor": 0,
       "model_id": "26ad12e0ff1242bfbb6061e638a12b14"
      }
     },
     "metadata": {},
     "output_type": "display_data"
    },
    {
     "data": {
      "text/plain": [
       "Text(value='', description='File Name:', placeholder='Enter file name')"
      ],
      "application/vnd.jupyter.widget-view+json": {
       "version_major": 2,
       "version_minor": 0,
       "model_id": "1bd7d0d69a29401b85f38c704dfd9a06"
      }
     },
     "metadata": {},
     "output_type": "display_data"
    },
    {
     "data": {
      "text/plain": [
       "Button(description='Save Plot', icon='save', style=ButtonStyle(), tooltip='Click to save the current plot')"
      ],
      "application/vnd.jupyter.widget-view+json": {
       "version_major": 2,
       "version_minor": 0,
       "model_id": "f39dcb8e4e52413e9e99ae6ab9f0eb9b"
      }
     },
     "metadata": {},
     "output_type": "display_data"
    }
   ],
   "execution_count": 30
  },
  {
   "metadata": {},
   "cell_type": "code",
   "outputs": [],
   "execution_count": null,
   "source": "",
   "id": "f4be773588127d12"
  }
 ],
 "metadata": {
  "kernelspec": {
   "display_name": "Python 3",
   "language": "python",
   "name": "python3"
  },
  "language_info": {
   "codemirror_mode": {
    "name": "ipython",
    "version": 2
   },
   "file_extension": ".py",
   "mimetype": "text/x-python",
   "name": "python",
   "nbconvert_exporter": "python",
   "pygments_lexer": "ipython2",
   "version": "2.7.6"
  }
 },
 "nbformat": 4,
 "nbformat_minor": 5
}
